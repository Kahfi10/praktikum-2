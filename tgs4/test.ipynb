{
 "cells": [
  {
   "cell_type": "code",
   "execution_count": null,
   "id": "8e34c34e",
   "metadata": {},
   "outputs": [],
   "source": [
    "import pandas as pd\n",
    "from sklearn.feature_extraction.text import CountVectorizer\n",
    "from sklearn.naive_bayes import MultinomialNB\n",
    "from sklearn.model_selection import train_test_split\n",
    "from sklearn.metrics import classification_report\n",
    "# from sastrawi.stopwords import StopWordRemover\n",
    "from Sastrawi.Stemmer.StemmerFactory import StemmerFactory\n"
   ]
  },
  {
   "cell_type": "code",
   "execution_count": null,
   "id": "090a2bb0",
   "metadata": {},
   "outputs": [],
   "source": [
    "from Sastrawi.StopWordRemover.StopWordRemoverFactory import StopWordRemoverFactory\n",
    "\n",
    "stopword_factory = StopWordRemoverFactory()\n",
    "stopword_remover = stopword_factory.create_stop_word_remover()\n",
    "\n",
    "factory = StemmerFactory()\n",
    "stemmer = factory.create_stemmer()\n",
    "\n",
    "def preprocess_text(text):\n",
    "    text_no_stopwords = stopword_remover.remove(text)\n",
    "    text_stemmed = stemmer.stem(text_no_stopwords)\n",
    "    return text_stemmed"
   ]
  },
  {
   "cell_type": "code",
   "execution_count": null,
   "id": "b173b122",
   "metadata": {},
   "outputs": [],
   "source": [
    "data = pd.read_excel('dataset_ulasan_kafe.xlsx')\n",
    "\n",
    "data['text'] = data['text'].apply(preprocess_text)\n",
    "\n",
    "texts = data['text']\n",
    "sentiments = data['label']\n",
    "\n",
    "X_train, X_test, y_train, y_test = train_test_split(texts, sentiments, test_size=0.3, random_state=42)"
   ]
  },
  {
   "cell_type": "code",
   "execution_count": null,
   "id": "b93c2fea",
   "metadata": {},
   "outputs": [],
   "source": [
    "vectorizer = CountVectorizer()\n",
    "\n",
    "X_train_counts = vectorizer.fit_transform(X_train)\n",
    "\n",
    "X_test_counts = vectorizer.transform(X_test)\n",
    "\n",
    "model = MultinomialNB()\n",
    "\n",
    "model.fit(X_train_counts, y_train)\n",
    "\n",
    "predictions = model.predict(X_test_counts)"
   ]
  },
  {
   "cell_type": "code",
   "execution_count": null,
   "id": "5c7a7baf",
   "metadata": {},
   "outputs": [],
   "source": [
    "print('Evaluasi Model:')\n",
    "print(classification_report(y_test, predictions))\n",
    "\n",
    "print('\\nBeberapa hasil prediksi:')\n",
    "for text, sentiment in zip(X_test, predictions):\n",
    "    print(f'Teks: {text}\\nPrediksi Sentimen: {sentiment}\\n')\n",
    "\n",
    "results = pd.DataFrame({'text': X_test, 'predicted_sentiment': predictions})\n",
    "results.to_excel('predictions.xlsx', index=False)\n",
    "\n",
    "print('Hasil prediksi disimpan ke predictions.xlsx')"
   ]
  },
  {
   "cell_type": "code",
   "execution_count": 28,
   "id": "dd4d3ec6",
   "metadata": {},
   "outputs": [
    {
     "name": "stdout",
     "output_type": "stream",
     "text": [
      "Prediksi Sentimen: \"tempatnya nyaman\": positif\n",
      "Prediksi Sentimen: \"suasana nya sangat nyaman\": positif\n",
      "Prediksi Sentimen: \"tempat parkirnya sempit\": positif\n",
      "Prediksi Sentimen: \"wc nya bau\": negatif\n",
      "Prediksi Sentimen: \"kopi nya pahit\": positif\n",
      "Prediksi Sentimen: \"tempatnya sangat ramai\": positif\n",
      "Prediksi Sentimen: \"pelayanan tidak ramah\": negatif\n",
      "Prediksi Sentimen: \"kursinya tidak cukup\": negatif\n",
      "Prediksi Sentimen: \"pelayanan sangat lama\": positif\n"
     ]
    }
   ],
   "source": [
    "def analyze_text(text):\n",
    "    preprocessed_text = preprocess_text(text)\n",
    "    text_counts = vectorizer.transform([text])\n",
    "    prediction = model.predict(text_counts)[0]\n",
    "    return prediction\n",
    "\n",
    "while True:\n",
    "    user_input = input(\"\\Masukkan teks untuk analisis sentimen (atau 'exit' untuk keluar): \")\n",
    "    if user_input.lower() == 'exit':\n",
    "        break\n",
    "    sentiment = analyze_text(user_input)\n",
    "    print(f'Prediksi Sentimen: \"{user_input}\": {sentiment}')\n"
   ]
  },
  {
   "cell_type": "code",
   "execution_count": 29,
   "id": "64a2508e",
   "metadata": {},
   "outputs": [],
   "source": [
    "from sklearn.naive_bayes import MultinomialNB\n",
    "model = MultinomialNB()"
   ]
  },
  {
   "cell_type": "code",
   "execution_count": 30,
   "id": "8cdb9c8b",
   "metadata": {},
   "outputs": [],
   "source": [
    "from sklearn.svm import SVC\n",
    "model_svc = SVC(kernel='linear')"
   ]
  },
  {
   "cell_type": "code",
   "execution_count": 31,
   "id": "d709854e",
   "metadata": {},
   "outputs": [],
   "source": [
    "from sklearn.linear_model import LogisticRegression\n",
    "model = LogisticRegression(max_iter=1000)"
   ]
  }
 ],
 "metadata": {
  "kernelspec": {
   "display_name": ".venv",
   "language": "python",
   "name": "python3"
  },
  "language_info": {
   "codemirror_mode": {
    "name": "ipython",
    "version": 3
   },
   "file_extension": ".py",
   "mimetype": "text/x-python",
   "name": "python",
   "nbconvert_exporter": "python",
   "pygments_lexer": "ipython3",
   "version": "3.11.9"
  }
 },
 "nbformat": 4,
 "nbformat_minor": 5
}
